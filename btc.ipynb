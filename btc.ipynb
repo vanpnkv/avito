{
 "cells": [
  {
   "cell_type": "code",
   "execution_count": 1,
   "metadata": {},
   "outputs": [],
   "source": [
    "import pandas as pd"
   ]
  },
  {
   "cell_type": "code",
   "execution_count": 2,
   "metadata": {},
   "outputs": [],
   "source": [
    "PATH = '/home/ivan/test_jun/'"
   ]
  },
  {
   "cell_type": "code",
   "execution_count": 3,
   "metadata": {},
   "outputs": [],
   "source": [
    "clust = pd.read_csv(PATH + 'address_clust.csv')"
   ]
  },
  {
   "cell_type": "code",
   "execution_count": 4,
   "metadata": {},
   "outputs": [
    {
     "data": {
      "text/html": [
       "<div>\n",
       "<style scoped>\n",
       "    .dataframe tbody tr th:only-of-type {\n",
       "        vertical-align: middle;\n",
       "    }\n",
       "\n",
       "    .dataframe tbody tr th {\n",
       "        vertical-align: top;\n",
       "    }\n",
       "\n",
       "    .dataframe thead th {\n",
       "        text-align: right;\n",
       "    }\n",
       "</style>\n",
       "<table border=\"1\" class=\"dataframe\">\n",
       "  <thead>\n",
       "    <tr style=\"text-align: right;\">\n",
       "      <th></th>\n",
       "      <th>address_id</th>\n",
       "      <th>cluster_id</th>\n",
       "    </tr>\n",
       "  </thead>\n",
       "  <tbody>\n",
       "    <tr>\n",
       "      <th>0</th>\n",
       "      <td>71413451</td>\n",
       "      <td>1</td>\n",
       "    </tr>\n",
       "    <tr>\n",
       "      <th>1</th>\n",
       "      <td>71411914</td>\n",
       "      <td>1</td>\n",
       "    </tr>\n",
       "    <tr>\n",
       "      <th>2</th>\n",
       "      <td>71410369</td>\n",
       "      <td>1</td>\n",
       "    </tr>\n",
       "    <tr>\n",
       "      <th>3</th>\n",
       "      <td>71410100</td>\n",
       "      <td>1</td>\n",
       "    </tr>\n",
       "    <tr>\n",
       "      <th>4</th>\n",
       "      <td>71410040</td>\n",
       "      <td>1</td>\n",
       "    </tr>\n",
       "  </tbody>\n",
       "</table>\n",
       "</div>"
      ],
      "text/plain": [
       "   address_id  cluster_id\n",
       "0    71413451           1\n",
       "1    71411914           1\n",
       "2    71410369           1\n",
       "3    71410100           1\n",
       "4    71410040           1"
      ]
     },
     "execution_count": 4,
     "metadata": {},
     "output_type": "execute_result"
    }
   ],
   "source": [
    "clust.head()"
   ]
  },
  {
   "cell_type": "code",
   "execution_count": 5,
   "metadata": {},
   "outputs": [
    {
     "name": "stdout",
     "output_type": "stream",
     "text": [
      "<class 'pandas.core.frame.DataFrame'>\n",
      "RangeIndex: 6996 entries, 0 to 6995\n",
      "Data columns (total 2 columns):\n",
      "address_id    6996 non-null int64\n",
      "cluster_id    6996 non-null int64\n",
      "dtypes: int64(2)\n",
      "memory usage: 109.4 KB\n"
     ]
    }
   ],
   "source": [
    "clust.info()"
   ]
  },
  {
   "cell_type": "code",
   "execution_count": 6,
   "metadata": {},
   "outputs": [],
   "source": [
    "stats = pd.read_csv(PATH + 'address_stats.csv')"
   ]
  },
  {
   "cell_type": "code",
   "execution_count": 7,
   "metadata": {},
   "outputs": [
    {
     "data": {
      "text/html": [
       "<div>\n",
       "<style scoped>\n",
       "    .dataframe tbody tr th:only-of-type {\n",
       "        vertical-align: middle;\n",
       "    }\n",
       "\n",
       "    .dataframe tbody tr th {\n",
       "        vertical-align: top;\n",
       "    }\n",
       "\n",
       "    .dataframe thead th {\n",
       "        text-align: right;\n",
       "    }\n",
       "</style>\n",
       "<table border=\"1\" class=\"dataframe\">\n",
       "  <thead>\n",
       "    <tr style=\"text-align: right;\">\n",
       "      <th></th>\n",
       "      <th>id</th>\n",
       "      <th>address_id</th>\n",
       "      <th>transaction_id</th>\n",
       "      <th>received</th>\n",
       "      <th>sent</th>\n",
       "    </tr>\n",
       "  </thead>\n",
       "  <tbody>\n",
       "    <tr>\n",
       "      <th>0</th>\n",
       "      <td>87134765</td>\n",
       "      <td>46402336</td>\n",
       "      <td>19162323</td>\n",
       "      <td>0.0</td>\n",
       "      <td>1800000.0</td>\n",
       "    </tr>\n",
       "    <tr>\n",
       "      <th>1</th>\n",
       "      <td>87134766</td>\n",
       "      <td>45919235</td>\n",
       "      <td>19162323</td>\n",
       "      <td>0.0</td>\n",
       "      <td>1071052.0</td>\n",
       "    </tr>\n",
       "    <tr>\n",
       "      <th>2</th>\n",
       "      <td>87134767</td>\n",
       "      <td>46529090</td>\n",
       "      <td>19162323</td>\n",
       "      <td>1000000.0</td>\n",
       "      <td>0.0</td>\n",
       "    </tr>\n",
       "    <tr>\n",
       "      <th>3</th>\n",
       "      <td>87134768</td>\n",
       "      <td>46529091</td>\n",
       "      <td>19162323</td>\n",
       "      <td>1821052.0</td>\n",
       "      <td>0.0</td>\n",
       "    </tr>\n",
       "    <tr>\n",
       "      <th>4</th>\n",
       "      <td>87154706</td>\n",
       "      <td>46529090</td>\n",
       "      <td>19166856</td>\n",
       "      <td>0.0</td>\n",
       "      <td>1000000.0</td>\n",
       "    </tr>\n",
       "  </tbody>\n",
       "</table>\n",
       "</div>"
      ],
      "text/plain": [
       "         id  address_id  transaction_id   received       sent\n",
       "0  87134765    46402336        19162323        0.0  1800000.0\n",
       "1  87134766    45919235        19162323        0.0  1071052.0\n",
       "2  87134767    46529090        19162323  1000000.0        0.0\n",
       "3  87134768    46529091        19162323  1821052.0        0.0\n",
       "4  87154706    46529090        19166856        0.0  1000000.0"
      ]
     },
     "execution_count": 7,
     "metadata": {},
     "output_type": "execute_result"
    }
   ],
   "source": [
    "stats.head()"
   ]
  },
  {
   "cell_type": "code",
   "execution_count": 8,
   "metadata": {},
   "outputs": [],
   "source": [
    "stats = stats.merge(clust, how='left', on='address_id').fillna(0)\n",
    "stats.drop_duplicates(inplace=True)"
   ]
  },
  {
   "cell_type": "code",
   "execution_count": 9,
   "metadata": {},
   "outputs": [],
   "source": [
    "stats['cluster_id'] = stats['cluster_id'].astype(int)"
   ]
  },
  {
   "cell_type": "code",
   "execution_count": 10,
   "metadata": {},
   "outputs": [
    {
     "data": {
      "text/plain": [
       "1    24195\n",
       "0    16820\n",
       "2    13430\n",
       "Name: cluster_id, dtype: int64"
      ]
     },
     "execution_count": 10,
     "metadata": {},
     "output_type": "execute_result"
    }
   ],
   "source": [
    "stats['cluster_id'].value_counts()"
   ]
  },
  {
   "cell_type": "code",
   "execution_count": 11,
   "metadata": {},
   "outputs": [],
   "source": [
    "import numpy as np\n",
    "def find_nearest(array, value):\n",
    "    array = np.asarray(array)\n",
    "    return (np.abs(array - value)).argmin()"
   ]
  },
  {
   "cell_type": "code",
   "execution_count": 12,
   "metadata": {},
   "outputs": [],
   "source": [
    "stats['to_cluster_0'] = 0\n",
    "stats['to_cluster_1'] = 0\n",
    "stats['to_cluster_2'] = 0"
   ]
  },
  {
   "cell_type": "code",
   "execution_count": 13,
   "metadata": {},
   "outputs": [],
   "source": [
    "for name, group in stats.groupby('transaction_id'):\n",
    "    group.sort_values(by='sent', ascending=False)\n",
    "    send = [group[group['sent'] > 0]['sent'].values, group[group['sent'] > 0]['id'].values]\n",
    "    receive = [group[group['received'] > 0]['received'].values, group[group['received'] > 0]['cluster_id'].values]\n",
    "    last_cluster = -1\n",
    "    while True:\n",
    "        for id, item in enumerate(send[0]):\n",
    "            idx = find_nearest(receive[0], item)\n",
    "            cluster = receive[1][idx]\n",
    "            was_receive = receive[0][idx]\n",
    "            receive[0][idx] = receive[0][idx] - item\n",
    "            if receive[0][idx] <= 0:\n",
    "                receive[0] = np.delete(receive[0], idx)\n",
    "                receive[1] = np.delete(receive[1], idx)\n",
    "            if (item - was_receive) > 0:\n",
    "                send[0][id] = send[0][id] - was_receive\n",
    "                stats.loc[(stats['transaction_id'] == name) & (stats['id'] == send[1][id]), f'to_cluster_{cluster}'] += was_receive\n",
    "                break\n",
    "            else:\n",
    "                stats.loc[(stats['transaction_id'] == name) & (stats['id'] == send[1][id]), f'to_cluster_{cluster}'] += item\n",
    "                send[0] = np.delete(send[0], id)\n",
    "                send[1] = np.delete(send[1], id)   \n",
    "                break\n",
    "        if len(send[0]) == 0:\n",
    "            break\n",
    "        if len(receive[0]) == 0:\n",
    "            break"
   ]
  },
  {
   "cell_type": "code",
   "execution_count": 14,
   "metadata": {},
   "outputs": [
    {
     "data": {
      "text/html": [
       "<div>\n",
       "<style scoped>\n",
       "    .dataframe tbody tr th:only-of-type {\n",
       "        vertical-align: middle;\n",
       "    }\n",
       "\n",
       "    .dataframe tbody tr th {\n",
       "        vertical-align: top;\n",
       "    }\n",
       "\n",
       "    .dataframe thead th {\n",
       "        text-align: right;\n",
       "    }\n",
       "</style>\n",
       "<table border=\"1\" class=\"dataframe\">\n",
       "  <thead>\n",
       "    <tr style=\"text-align: right;\">\n",
       "      <th></th>\n",
       "      <th>id</th>\n",
       "      <th>address_id</th>\n",
       "      <th>transaction_id</th>\n",
       "      <th>received</th>\n",
       "      <th>sent</th>\n",
       "      <th>cluster_id</th>\n",
       "      <th>to_cluster_0</th>\n",
       "      <th>to_cluster_1</th>\n",
       "      <th>to_cluster_2</th>\n",
       "    </tr>\n",
       "  </thead>\n",
       "  <tbody>\n",
       "    <tr>\n",
       "      <th>0</th>\n",
       "      <td>87134765</td>\n",
       "      <td>46402336</td>\n",
       "      <td>19162323</td>\n",
       "      <td>0.0</td>\n",
       "      <td>1800000.0</td>\n",
       "      <td>0</td>\n",
       "      <td>1800000.0</td>\n",
       "      <td>0.0</td>\n",
       "      <td>0.0</td>\n",
       "    </tr>\n",
       "    <tr>\n",
       "      <th>1</th>\n",
       "      <td>87134766</td>\n",
       "      <td>45919235</td>\n",
       "      <td>19162323</td>\n",
       "      <td>0.0</td>\n",
       "      <td>1071052.0</td>\n",
       "      <td>0</td>\n",
       "      <td>21052.0</td>\n",
       "      <td>1000000.0</td>\n",
       "      <td>0.0</td>\n",
       "    </tr>\n",
       "    <tr>\n",
       "      <th>2</th>\n",
       "      <td>87134767</td>\n",
       "      <td>46529090</td>\n",
       "      <td>19162323</td>\n",
       "      <td>1000000.0</td>\n",
       "      <td>0.0</td>\n",
       "      <td>1</td>\n",
       "      <td>0.0</td>\n",
       "      <td>0.0</td>\n",
       "      <td>0.0</td>\n",
       "    </tr>\n",
       "    <tr>\n",
       "      <th>3</th>\n",
       "      <td>87134768</td>\n",
       "      <td>46529091</td>\n",
       "      <td>19162323</td>\n",
       "      <td>1821052.0</td>\n",
       "      <td>0.0</td>\n",
       "      <td>0</td>\n",
       "      <td>0.0</td>\n",
       "      <td>0.0</td>\n",
       "      <td>0.0</td>\n",
       "    </tr>\n",
       "    <tr>\n",
       "      <th>4</th>\n",
       "      <td>87154706</td>\n",
       "      <td>46529090</td>\n",
       "      <td>19166856</td>\n",
       "      <td>0.0</td>\n",
       "      <td>1000000.0</td>\n",
       "      <td>1</td>\n",
       "      <td>990000.0</td>\n",
       "      <td>0.0</td>\n",
       "      <td>0.0</td>\n",
       "    </tr>\n",
       "  </tbody>\n",
       "</table>\n",
       "</div>"
      ],
      "text/plain": [
       "         id  address_id  transaction_id   received       sent  cluster_id  \\\n",
       "0  87134765    46402336        19162323        0.0  1800000.0           0   \n",
       "1  87134766    45919235        19162323        0.0  1071052.0           0   \n",
       "2  87134767    46529090        19162323  1000000.0        0.0           1   \n",
       "3  87134768    46529091        19162323  1821052.0        0.0           0   \n",
       "4  87154706    46529090        19166856        0.0  1000000.0           1   \n",
       "\n",
       "   to_cluster_0  to_cluster_1  to_cluster_2  \n",
       "0     1800000.0           0.0           0.0  \n",
       "1       21052.0     1000000.0           0.0  \n",
       "2           0.0           0.0           0.0  \n",
       "3           0.0           0.0           0.0  \n",
       "4      990000.0           0.0           0.0  "
      ]
     },
     "execution_count": 14,
     "metadata": {},
     "output_type": "execute_result"
    }
   ],
   "source": [
    "stats.head()"
   ]
  },
  {
   "cell_type": "code",
   "execution_count": 15,
   "metadata": {},
   "outputs": [],
   "source": [
    "def how_many_btc(c_from, c_to):\n",
    "    btc = stats[(stats['sent'] > 0) & (stats['cluster_id'] == c_from)][f'to_cluster_{c_to}'].sum()/10**8\n",
    "    print(f'{btc} btc отправил кластер {c_from} в кластер {c_to}')"
   ]
  },
  {
   "cell_type": "markdown",
   "metadata": {},
   "source": [
    "### Сколько биткоинов отправил кластер 1 в кластер 2 и сколько кластер 2 отправил в кластер 1?"
   ]
  },
  {
   "cell_type": "code",
   "execution_count": 16,
   "metadata": {},
   "outputs": [
    {
     "name": "stdout",
     "output_type": "stream",
     "text": [
      "64.62162 btc отправил кластер 1 в кластер 2\n"
     ]
    }
   ],
   "source": [
    "how_many_btc(1, 2)"
   ]
  },
  {
   "cell_type": "code",
   "execution_count": 17,
   "metadata": {},
   "outputs": [
    {
     "name": "stdout",
     "output_type": "stream",
     "text": [
      "67.91 btc отправил кластер 2 в кластер 1\n"
     ]
    }
   ],
   "source": [
    "how_many_btc(2, 1)"
   ]
  },
  {
   "cell_type": "markdown",
   "metadata": {},
   "source": [
    "### Сколько биткоинов отправил кластер 1 в кластер 0 и сколько кластер 0 отправил в кластер 1?"
   ]
  },
  {
   "cell_type": "code",
   "execution_count": 18,
   "metadata": {},
   "outputs": [
    {
     "name": "stdout",
     "output_type": "stream",
     "text": [
      "291.5108346 btc отправил кластер 1 в кластер 0\n"
     ]
    }
   ],
   "source": [
    "how_many_btc(1, 0)"
   ]
  },
  {
   "cell_type": "code",
   "execution_count": 19,
   "metadata": {},
   "outputs": [
    {
     "name": "stdout",
     "output_type": "stream",
     "text": [
      "288.7905886 btc отправил кластер 0 в кластер 1\n"
     ]
    }
   ],
   "source": [
    "how_many_btc(0, 1)"
   ]
  },
  {
   "cell_type": "markdown",
   "metadata": {},
   "source": [
    "### Сколько биткоинов отправил кластер 2 в кластер 0 и сколько кластер 0 отправил в кластер 2?"
   ]
  },
  {
   "cell_type": "code",
   "execution_count": 20,
   "metadata": {},
   "outputs": [
    {
     "name": "stdout",
     "output_type": "stream",
     "text": [
      "2.43507 btc отправил кластер 2 в кластер 0\n"
     ]
    }
   ],
   "source": [
    "how_many_btc(2, 0)"
   ]
  },
  {
   "cell_type": "code",
   "execution_count": 21,
   "metadata": {},
   "outputs": [
    {
     "name": "stdout",
     "output_type": "stream",
     "text": [
      "6.09640861 btc отправил кластер 0 в кластер 2\n"
     ]
    }
   ],
   "source": [
    "how_many_btc(0, 2)"
   ]
  },
  {
   "cell_type": "markdown",
   "metadata": {},
   "source": [
    "### Сколько биткоинов потратил кластер 1 и кластер 2 на fee?"
   ]
  },
  {
   "cell_type": "code",
   "execution_count": 29,
   "metadata": {},
   "outputs": [
    {
     "data": {
      "text/plain": [
       "(0.502344, 0.37295861)"
      ]
     },
     "execution_count": 29,
     "metadata": {},
     "output_type": "execute_result"
    }
   ],
   "source": [
    "(stats[stats['cluster_id'] == 1]['sent'].sum() - stats[stats['cluster_id'] == 1]['to_cluster_0'].sum() - stats[stats['cluster_id'] == 1]['to_cluster_1'].sum() - stats[stats['cluster_id'] == 1]['to_cluster_2'].sum())/10**8, (stats[stats['cluster_id'] == 2]['sent'].sum() - stats[stats['cluster_id'] == 2]['to_cluster_0'].sum() - stats[stats['cluster_id'] == 2]['to_cluster_1'].sum() - stats[stats['cluster_id'] == 2]['to_cluster_2'].sum())/10**8"
   ]
  },
  {
   "cell_type": "markdown",
   "metadata": {},
   "source": [
    "В итоге получился не особо точный на мой взгляд алгоритм, смущают крошечные комиссии"
   ]
  },
  {
   "cell_type": "markdown",
   "metadata": {},
   "source": [
    "Основная проблема - неизвестно в какой доле разделяется сумма транзакциий. Например, если с двух адресов средства поступают на два дугих адреса, то они могут быть распределены вообще в любой пропорции, и я не понял как это побороть.  \n",
    "В итоге, просто смотрел какая отправленная сумма наиболее близка к принятой сумме, и считал, что средства отправлялись именно на этот адрес.  \n",
    "В этом подходе есть большой минус: если входящая сумма меньше, чем исходящая, то считается, что вся отправленная сумма ушла туда, и теряется информация о комиссии.  \n",
    "А в целом, вроде осилил) Спасибо!"
   ]
  }
 ],
 "metadata": {
  "kernelspec": {
   "display_name": "Python 3",
   "language": "python",
   "name": "python3"
  },
  "language_info": {
   "codemirror_mode": {
    "name": "ipython",
    "version": 3
   },
   "file_extension": ".py",
   "mimetype": "text/x-python",
   "name": "python",
   "nbconvert_exporter": "python",
   "pygments_lexer": "ipython3",
   "version": "3.7.3"
  }
 },
 "nbformat": 4,
 "nbformat_minor": 2
}
