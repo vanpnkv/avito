{
 "cells": [
  {
   "cell_type": "code",
   "execution_count": 1,
   "metadata": {},
   "outputs": [],
   "source": [
    "import pandas as pd\n",
    "pd.set_option('display.max_columns', 500)\n",
    "\n",
    "import warnings\n",
    "warnings.simplefilter('ignore')\n",
    "\n",
    "import seaborn as sns\n",
    "import matplotlib.pyplot as plt\n",
    "%matplotlib inline\n",
    "%config InlineBackend.figure_format = 'svg' \n",
    "from pylab import rcParams\n",
    "rcParams['figure.figsize'] = 16, 10"
   ]
  },
  {
   "cell_type": "code",
   "execution_count": 37,
   "metadata": {},
   "outputs": [
    {
     "data": {
      "text/html": [
       "<div>\n",
       "<style scoped>\n",
       "    .dataframe tbody tr th:only-of-type {\n",
       "        vertical-align: middle;\n",
       "    }\n",
       "\n",
       "    .dataframe tbody tr th {\n",
       "        vertical-align: top;\n",
       "    }\n",
       "\n",
       "    .dataframe thead th {\n",
       "        text-align: right;\n",
       "    }\n",
       "</style>\n",
       "<table border=\"1\" class=\"dataframe\">\n",
       "  <thead>\n",
       "    <tr style=\"text-align: right;\">\n",
       "      <th></th>\n",
       "      <th>user_id</th>\n",
       "      <th>ticket_category</th>\n",
       "      <th>ticket_subcategory</th>\n",
       "      <th>current_state</th>\n",
       "      <th>request_id</th>\n",
       "      <th>activity_start_dt</th>\n",
       "      <th>fact_reaction_dt</th>\n",
       "    </tr>\n",
       "  </thead>\n",
       "  <tbody>\n",
       "    <tr>\n",
       "      <th>0</th>\n",
       "      <td>370 518 212</td>\n",
       "      <td>Технические вопросы</td>\n",
       "      <td>Доступ к сайту</td>\n",
       "      <td>Решено</td>\n",
       "      <td>045be6ac-d532-4c20-b1c9-fb82c1737464</td>\n",
       "      <td>2015-11-26 22:56:00</td>\n",
       "      <td>2015-12-03 12:11:00</td>\n",
       "    </tr>\n",
       "    <tr>\n",
       "      <th>1</th>\n",
       "      <td>2 138 799</td>\n",
       "      <td>Технические вопросы</td>\n",
       "      <td>Доступ к сайту</td>\n",
       "      <td>Решено</td>\n",
       "      <td>8ebbb8c6-7abb-4fad-a83b-35a71a83a186</td>\n",
       "      <td>2015-12-18 08:52:00</td>\n",
       "      <td>2015-12-23 06:40:00</td>\n",
       "    </tr>\n",
       "    <tr>\n",
       "      <th>2</th>\n",
       "      <td>2 033 101</td>\n",
       "      <td>Технические вопросы</td>\n",
       "      <td>Доступ к сайту</td>\n",
       "      <td>Решено</td>\n",
       "      <td>ee303751-4a21-4544-a4c3-56924c088028</td>\n",
       "      <td>2015-12-16 19:06:00</td>\n",
       "      <td>2015-12-26 07:46:00</td>\n",
       "    </tr>\n",
       "    <tr>\n",
       "      <th>3</th>\n",
       "      <td>177 122 000 003</td>\n",
       "      <td>Мобильный Avito</td>\n",
       "      <td>Android приложение</td>\n",
       "      <td>Решено</td>\n",
       "      <td>bb989fcb-277a-41bd-aaa2-f131333b629e</td>\n",
       "      <td>2015-12-01 17:08:00</td>\n",
       "      <td>2015-12-09 11:19:00</td>\n",
       "    </tr>\n",
       "    <tr>\n",
       "      <th>4</th>\n",
       "      <td>37 340 500 064</td>\n",
       "      <td>Технические вопросы</td>\n",
       "      <td>Доступ к сайту</td>\n",
       "      <td>Решено</td>\n",
       "      <td>e742d172-0ef1-47d8-b862-25be082d8bc0</td>\n",
       "      <td>2015-12-14 10:08:00</td>\n",
       "      <td>2015-12-15 16:14:00</td>\n",
       "    </tr>\n",
       "  </tbody>\n",
       "</table>\n",
       "</div>"
      ],
      "text/plain": [
       "           user_id      ticket_category  ticket_subcategory current_state  \\\n",
       "0      370 518 212  Технические вопросы      Доступ к сайту        Решено   \n",
       "1        2 138 799  Технические вопросы      Доступ к сайту        Решено   \n",
       "2        2 033 101  Технические вопросы      Доступ к сайту        Решено   \n",
       "3  177 122 000 003      Мобильный Avito  Android приложение        Решено   \n",
       "4   37 340 500 064  Технические вопросы      Доступ к сайту        Решено   \n",
       "\n",
       "                             request_id    activity_start_dt  \\\n",
       "0  045be6ac-d532-4c20-b1c9-fb82c1737464  2015-11-26 22:56:00   \n",
       "1  8ebbb8c6-7abb-4fad-a83b-35a71a83a186  2015-12-18 08:52:00   \n",
       "2  ee303751-4a21-4544-a4c3-56924c088028  2015-12-16 19:06:00   \n",
       "3  bb989fcb-277a-41bd-aaa2-f131333b629e  2015-12-01 17:08:00   \n",
       "4  e742d172-0ef1-47d8-b862-25be082d8bc0  2015-12-14 10:08:00   \n",
       "\n",
       "      fact_reaction_dt  \n",
       "0  2015-12-03 12:11:00  \n",
       "1  2015-12-23 06:40:00  \n",
       "2  2015-12-26 07:46:00  \n",
       "3  2015-12-09 11:19:00  \n",
       "4  2015-12-15 16:14:00  "
      ]
     },
     "execution_count": 37,
     "metadata": {},
     "output_type": "execute_result"
    }
   ],
   "source": [
    "support_tickets = pd.read_csv('support_tickets.csv')\n",
    "support_tickets.head()"
   ]
  },
  {
   "cell_type": "code",
   "execution_count": 81,
   "metadata": {},
   "outputs": [
    {
     "data": {
      "text/html": [
       "<div>\n",
       "<style scoped>\n",
       "    .dataframe tbody tr th:only-of-type {\n",
       "        vertical-align: middle;\n",
       "    }\n",
       "\n",
       "    .dataframe tbody tr th {\n",
       "        vertical-align: top;\n",
       "    }\n",
       "\n",
       "    .dataframe thead th {\n",
       "        text-align: right;\n",
       "    }\n",
       "</style>\n",
       "<table border=\"1\" class=\"dataframe\">\n",
       "  <thead>\n",
       "    <tr style=\"text-align: right;\">\n",
       "      <th></th>\n",
       "      <th>request_id</th>\n",
       "      <th>result_mentioned_by_user</th>\n",
       "    </tr>\n",
       "  </thead>\n",
       "  <tbody>\n",
       "    <tr>\n",
       "      <th>0</th>\n",
       "      <td>09e34912-b4df-4e91-b3e0-35b40fe6b9b8</td>\n",
       "      <td>Не удовлетворительно</td>\n",
       "    </tr>\n",
       "    <tr>\n",
       "      <th>1</th>\n",
       "      <td>76099bef-7ab3-4a01-96c3-4c06f4032a7e</td>\n",
       "      <td>Не удовлетворительно</td>\n",
       "    </tr>\n",
       "    <tr>\n",
       "      <th>2</th>\n",
       "      <td>70acfed6-8897-4e38-a407-65150e7a4395</td>\n",
       "      <td>Удовлетворительно</td>\n",
       "    </tr>\n",
       "    <tr>\n",
       "      <th>3</th>\n",
       "      <td>64c7a6c8-8bfe-4f35-b662-9091b3472e6f</td>\n",
       "      <td>Не удовлетворительно</td>\n",
       "    </tr>\n",
       "    <tr>\n",
       "      <th>4</th>\n",
       "      <td>b08d9414-7167-4f7f-9837-fe6e535f4fb6</td>\n",
       "      <td>Не удовлетворительно</td>\n",
       "    </tr>\n",
       "  </tbody>\n",
       "</table>\n",
       "</div>"
      ],
      "text/plain": [
       "                             request_id result_mentioned_by_user\n",
       "0  09e34912-b4df-4e91-b3e0-35b40fe6b9b8     Не удовлетворительно\n",
       "1  76099bef-7ab3-4a01-96c3-4c06f4032a7e     Не удовлетворительно\n",
       "2  70acfed6-8897-4e38-a407-65150e7a4395        Удовлетворительно\n",
       "3  64c7a6c8-8bfe-4f35-b662-9091b3472e6f     Не удовлетворительно\n",
       "4  b08d9414-7167-4f7f-9837-fe6e535f4fb6     Не удовлетворительно"
      ]
     },
     "execution_count": 81,
     "metadata": {},
     "output_type": "execute_result"
    }
   ],
   "source": [
    "users_evaluation = pd.read_csv('users_evaluation_of_satisfaction.csv')\n",
    "users_evaluation.head()"
   ]
  },
  {
   "cell_type": "code",
   "execution_count": 21,
   "metadata": {},
   "outputs": [
    {
     "data": {
      "text/html": [
       "<div>\n",
       "<style scoped>\n",
       "    .dataframe tbody tr th:only-of-type {\n",
       "        vertical-align: middle;\n",
       "    }\n",
       "\n",
       "    .dataframe tbody tr th {\n",
       "        vertical-align: top;\n",
       "    }\n",
       "\n",
       "    .dataframe thead th {\n",
       "        text-align: right;\n",
       "    }\n",
       "</style>\n",
       "<table border=\"1\" class=\"dataframe\">\n",
       "  <thead>\n",
       "    <tr style=\"text-align: right;\">\n",
       "      <th></th>\n",
       "      <th>user_id</th>\n",
       "      <th>user_registration_time</th>\n",
       "      <th>user_first_listing_date</th>\n",
       "      <th>item_id</th>\n",
       "      <th>item_starttime</th>\n",
       "      <th>item_category</th>\n",
       "      <th>item_subcategory</th>\n",
       "    </tr>\n",
       "  </thead>\n",
       "  <tbody>\n",
       "    <tr>\n",
       "      <th>0</th>\n",
       "      <td>386 341 477</td>\n",
       "      <td>2013-05-27 14:40:09</td>\n",
       "      <td>2013-05-27 14:40:09</td>\n",
       "      <td>8 523 500 011</td>\n",
       "      <td>2014-01-01 02:22:54</td>\n",
       "      <td>Транспорт</td>\n",
       "      <td>Автомобили</td>\n",
       "    </tr>\n",
       "    <tr>\n",
       "      <th>1</th>\n",
       "      <td>6 790 750 024</td>\n",
       "      <td>2013-12-14 23:05:15</td>\n",
       "      <td>2013-12-14 23:27:04</td>\n",
       "      <td>8 525 000 013</td>\n",
       "      <td>2014-01-01 02:45:56</td>\n",
       "      <td>Транспорт</td>\n",
       "      <td>Запчасти и аксессуары</td>\n",
       "    </tr>\n",
       "    <tr>\n",
       "      <th>2</th>\n",
       "      <td>2 755 740</td>\n",
       "      <td>2011-04-14 17:54:40</td>\n",
       "      <td>2011-04-14 18:05:27</td>\n",
       "      <td>8 527 000 043</td>\n",
       "      <td>2014-01-01 03:29:44</td>\n",
       "      <td>Транспорт</td>\n",
       "      <td>Автомобили</td>\n",
       "    </tr>\n",
       "    <tr>\n",
       "      <th>3</th>\n",
       "      <td>506 779</td>\n",
       "      <td>2011-08-14 06:19:11</td>\n",
       "      <td>2011-08-14 06:50:04</td>\n",
       "      <td>8 530 000 039</td>\n",
       "      <td>2014-01-01 04:34:51</td>\n",
       "      <td>Личные вещи</td>\n",
       "      <td>Красота и здоровье</td>\n",
       "    </tr>\n",
       "    <tr>\n",
       "      <th>4</th>\n",
       "      <td>766 896</td>\n",
       "      <td>2013-05-17 11:32:13</td>\n",
       "      <td>2013-06-05 06:05:09</td>\n",
       "      <td>8 534 500 187</td>\n",
       "      <td>2014-01-01 06:07:58</td>\n",
       "      <td>Недвижимость</td>\n",
       "      <td>Дома, дачи, коттеджи</td>\n",
       "    </tr>\n",
       "  </tbody>\n",
       "</table>\n",
       "</div>"
      ],
      "text/plain": [
       "         user_id user_registration_time user_first_listing_date  \\\n",
       "0    386 341 477    2013-05-27 14:40:09     2013-05-27 14:40:09   \n",
       "1  6 790 750 024    2013-12-14 23:05:15     2013-12-14 23:27:04   \n",
       "2      2 755 740    2011-04-14 17:54:40     2011-04-14 18:05:27   \n",
       "3        506 779    2011-08-14 06:19:11     2011-08-14 06:50:04   \n",
       "4        766 896    2013-05-17 11:32:13     2013-06-05 06:05:09   \n",
       "\n",
       "         item_id       item_starttime item_category       item_subcategory  \n",
       "0  8 523 500 011  2014-01-01 02:22:54     Транспорт             Автомобили  \n",
       "1  8 525 000 013  2014-01-01 02:45:56     Транспорт  Запчасти и аксессуары  \n",
       "2  8 527 000 043  2014-01-01 03:29:44     Транспорт             Автомобили  \n",
       "3  8 530 000 039  2014-01-01 04:34:51   Личные вещи     Красота и здоровье  \n",
       "4  8 534 500 187  2014-01-01 06:07:58  Недвижимость   Дома, дачи, коттеджи  "
      ]
     },
     "execution_count": 21,
     "metadata": {},
     "output_type": "execute_result"
    }
   ],
   "source": [
    "new_items = pd.read_csv('new_items_by_support_users.csv')\n",
    "new_items.head()"
   ]
  },
  {
   "cell_type": "markdown",
   "metadata": {},
   "source": [
    "## Вычислим как влияет время ответа техподдержки на следующие параметры:\n",
    "* Оценка\n",
    "* Количество объявлений после обращения\n"
   ]
  },
  {
   "cell_type": "code",
   "execution_count": 39,
   "metadata": {},
   "outputs": [],
   "source": [
    "support_tickets['activity_start_dt'] = pd.to_datetime(support_tickets['activity_start_dt'])\n",
    "support_tickets['fact_reaction_dt'] = pd.to_datetime(support_tickets['fact_reaction_dt'])"
   ]
  },
  {
   "cell_type": "code",
   "execution_count": 40,
   "metadata": {},
   "outputs": [],
   "source": [
    "support_tickets['duration'] = support_tickets['fact_reaction_dt'] - support_tickets['activity_start_dt']"
   ]
  },
  {
   "cell_type": "code",
   "execution_count": 82,
   "metadata": {},
   "outputs": [],
   "source": [
    "users_evaluation['result_mentioned_by_user'] = users_evaluation['result_mentioned_by_user'].map(\n",
    "    {'Отлично': 5, 'Хорошо': 4, 'Нейтрально': 3, 'Удовлетворительно': 2, 'Не удовлетворительно': 1})"
   ]
  },
  {
   "cell_type": "code",
   "execution_count": 94,
   "metadata": {},
   "outputs": [],
   "source": [
    "users_evaluation = users_evaluation.groupby('request_id', as_index=False).mean()"
   ]
  },
  {
   "cell_type": "code",
   "execution_count": 99,
   "metadata": {},
   "outputs": [],
   "source": [
    "support_tickets_w_ev = pd.merge(support_tickets, users_evaluation, how='inner', on='request_id')"
   ]
  },
  {
   "cell_type": "code",
   "execution_count": 125,
   "metadata": {},
   "outputs": [],
   "source": [
    "support_tickets_w_ev.drop(support_tickets_w_ev.loc[\n",
    "    support_tickets_w_ev['duration'] <= pd.to_timedelta(0)].index, inplace=True)"
   ]
  },
  {
   "cell_type": "code",
   "execution_count": 118,
   "metadata": {},
   "outputs": [
    {
     "ename": "ValueError",
     "evalue": "'duration' is not a valid plot kind",
     "output_type": "error",
     "traceback": [
      "\u001b[0;31m---------------------------------------------------------------------------\u001b[0m",
      "\u001b[0;31mValueError\u001b[0m                                Traceback (most recent call last)",
      "\u001b[0;32m<ipython-input-118-c4288a45692b>\u001b[0m in \u001b[0;36m<module>\u001b[0;34m\u001b[0m\n\u001b[0;32m----> 1\u001b[0;31m \u001b[0msupport_tickets_w_ev\u001b[0m\u001b[0;34m[\u001b[0m\u001b[0;34m'result_mentioned_by_user'\u001b[0m\u001b[0;34m]\u001b[0m\u001b[0;34m.\u001b[0m\u001b[0mplot\u001b[0m\u001b[0;34m(\u001b[0m\u001b[0mkind\u001b[0m\u001b[0;34m=\u001b[0m\u001b[0;34m'duration'\u001b[0m\u001b[0;34m)\u001b[0m\u001b[0;34m\u001b[0m\u001b[0;34m\u001b[0m\u001b[0m\n\u001b[0m",
      "\u001b[0;32m~/anaconda3/lib/python3.7/site-packages/pandas/plotting/_core.py\u001b[0m in \u001b[0;36m__call__\u001b[0;34m(self, kind, ax, figsize, use_index, title, grid, legend, style, logx, logy, loglog, xticks, yticks, xlim, ylim, rot, fontsize, colormap, table, yerr, xerr, label, secondary_y, **kwds)\u001b[0m\n\u001b[1;32m   2740\u001b[0m                            \u001b[0mcolormap\u001b[0m\u001b[0;34m=\u001b[0m\u001b[0mcolormap\u001b[0m\u001b[0;34m,\u001b[0m \u001b[0mtable\u001b[0m\u001b[0;34m=\u001b[0m\u001b[0mtable\u001b[0m\u001b[0;34m,\u001b[0m \u001b[0myerr\u001b[0m\u001b[0;34m=\u001b[0m\u001b[0myerr\u001b[0m\u001b[0;34m,\u001b[0m\u001b[0;34m\u001b[0m\u001b[0;34m\u001b[0m\u001b[0m\n\u001b[1;32m   2741\u001b[0m                            \u001b[0mxerr\u001b[0m\u001b[0;34m=\u001b[0m\u001b[0mxerr\u001b[0m\u001b[0;34m,\u001b[0m \u001b[0mlabel\u001b[0m\u001b[0;34m=\u001b[0m\u001b[0mlabel\u001b[0m\u001b[0;34m,\u001b[0m \u001b[0msecondary_y\u001b[0m\u001b[0;34m=\u001b[0m\u001b[0msecondary_y\u001b[0m\u001b[0;34m,\u001b[0m\u001b[0;34m\u001b[0m\u001b[0;34m\u001b[0m\u001b[0m\n\u001b[0;32m-> 2742\u001b[0;31m                            **kwds)\n\u001b[0m\u001b[1;32m   2743\u001b[0m     \u001b[0m__call__\u001b[0m\u001b[0;34m.\u001b[0m\u001b[0m__doc__\u001b[0m \u001b[0;34m=\u001b[0m \u001b[0mplot_series\u001b[0m\u001b[0;34m.\u001b[0m\u001b[0m__doc__\u001b[0m\u001b[0;34m\u001b[0m\u001b[0;34m\u001b[0m\u001b[0m\n\u001b[1;32m   2744\u001b[0m \u001b[0;34m\u001b[0m\u001b[0m\n",
      "\u001b[0;32m~/anaconda3/lib/python3.7/site-packages/pandas/plotting/_core.py\u001b[0m in \u001b[0;36mplot_series\u001b[0;34m(data, kind, ax, figsize, use_index, title, grid, legend, style, logx, logy, loglog, xticks, yticks, xlim, ylim, rot, fontsize, colormap, table, yerr, xerr, label, secondary_y, **kwds)\u001b[0m\n\u001b[1;32m   1996\u001b[0m                  \u001b[0myerr\u001b[0m\u001b[0;34m=\u001b[0m\u001b[0myerr\u001b[0m\u001b[0;34m,\u001b[0m \u001b[0mxerr\u001b[0m\u001b[0;34m=\u001b[0m\u001b[0mxerr\u001b[0m\u001b[0;34m,\u001b[0m\u001b[0;34m\u001b[0m\u001b[0;34m\u001b[0m\u001b[0m\n\u001b[1;32m   1997\u001b[0m                  \u001b[0mlabel\u001b[0m\u001b[0;34m=\u001b[0m\u001b[0mlabel\u001b[0m\u001b[0;34m,\u001b[0m \u001b[0msecondary_y\u001b[0m\u001b[0;34m=\u001b[0m\u001b[0msecondary_y\u001b[0m\u001b[0;34m,\u001b[0m\u001b[0;34m\u001b[0m\u001b[0;34m\u001b[0m\u001b[0m\n\u001b[0;32m-> 1998\u001b[0;31m                  **kwds)\n\u001b[0m\u001b[1;32m   1999\u001b[0m \u001b[0;34m\u001b[0m\u001b[0m\n\u001b[1;32m   2000\u001b[0m \u001b[0;34m\u001b[0m\u001b[0m\n",
      "\u001b[0;32m~/anaconda3/lib/python3.7/site-packages/pandas/plotting/_core.py\u001b[0m in \u001b[0;36m_plot\u001b[0;34m(data, x, y, subplots, ax, kind, **kwds)\u001b[0m\n\u001b[1;32m   1733\u001b[0m         \u001b[0mklass\u001b[0m \u001b[0;34m=\u001b[0m \u001b[0m_plot_klass\u001b[0m\u001b[0;34m[\u001b[0m\u001b[0mkind\u001b[0m\u001b[0;34m]\u001b[0m\u001b[0;34m\u001b[0m\u001b[0;34m\u001b[0m\u001b[0m\n\u001b[1;32m   1734\u001b[0m     \u001b[0;32melse\u001b[0m\u001b[0;34m:\u001b[0m\u001b[0;34m\u001b[0m\u001b[0;34m\u001b[0m\u001b[0m\n\u001b[0;32m-> 1735\u001b[0;31m         \u001b[0;32mraise\u001b[0m \u001b[0mValueError\u001b[0m\u001b[0;34m(\u001b[0m\u001b[0;34m\"%r is not a valid plot kind\"\u001b[0m \u001b[0;34m%\u001b[0m \u001b[0mkind\u001b[0m\u001b[0;34m)\u001b[0m\u001b[0;34m\u001b[0m\u001b[0;34m\u001b[0m\u001b[0m\n\u001b[0m\u001b[1;32m   1736\u001b[0m \u001b[0;34m\u001b[0m\u001b[0m\n\u001b[1;32m   1737\u001b[0m     \u001b[0;32mif\u001b[0m \u001b[0mkind\u001b[0m \u001b[0;32min\u001b[0m \u001b[0m_dataframe_kinds\u001b[0m\u001b[0;34m:\u001b[0m\u001b[0;34m\u001b[0m\u001b[0;34m\u001b[0m\u001b[0m\n",
      "\u001b[0;31mValueError\u001b[0m: 'duration' is not a valid plot kind"
     ]
    }
   ],
   "source": [
    "support_tickets_w_ev['result_mentioned_by_user'].plot(kind='duration')"
   ]
  },
  {
   "cell_type": "code",
   "execution_count": 146,
   "metadata": {},
   "outputs": [
    {
     "ename": "NameError",
     "evalue": "name 'total_seconds' is not defined",
     "output_type": "error",
     "traceback": [
      "\u001b[0;31m---------------------------------------------------------------------------\u001b[0m",
      "\u001b[0;31mNameError\u001b[0m                                 Traceback (most recent call last)",
      "\u001b[0;32m<ipython-input-146-b080d2676c34>\u001b[0m in \u001b[0;36m<module>\u001b[0;34m\u001b[0m\n\u001b[0;32m----> 1\u001b[0;31m \u001b[0msupport_tickets_w_ev\u001b[0m\u001b[0;34m[\u001b[0m\u001b[0;34m'duration'\u001b[0m\u001b[0;34m]\u001b[0m\u001b[0;34m.\u001b[0m\u001b[0mapply\u001b[0m\u001b[0;34m(\u001b[0m\u001b[0mtotal_seconds\u001b[0m\u001b[0;34m(\u001b[0m\u001b[0;34m)\u001b[0m\u001b[0;34m)\u001b[0m\u001b[0;34m\u001b[0m\u001b[0;34m\u001b[0m\u001b[0m\n\u001b[0m",
      "\u001b[0;31mNameError\u001b[0m: name 'total_seconds' is not defined"
     ]
    }
   ],
   "source": [
    "support_tickets_w_ev['duration'].apply(total_seconds())"
   ]
  },
  {
   "cell_type": "code",
   "execution_count": null,
   "metadata": {},
   "outputs": [],
   "source": []
  },
  {
   "cell_type": "code",
   "execution_count": null,
   "metadata": {},
   "outputs": [],
   "source": []
  }
 ],
 "metadata": {
  "kernelspec": {
   "display_name": "Python 3",
   "language": "python",
   "name": "python3"
  },
  "language_info": {
   "codemirror_mode": {
    "name": "ipython",
    "version": 3
   },
   "file_extension": ".py",
   "mimetype": "text/x-python",
   "name": "python",
   "nbconvert_exporter": "python",
   "pygments_lexer": "ipython3",
   "version": "3.7.3"
  }
 },
 "nbformat": 4,
 "nbformat_minor": 2
}
