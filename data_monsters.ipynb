{
 "cells": [
  {
   "cell_type": "code",
   "execution_count": 1,
   "metadata": {},
   "outputs": [],
   "source": [
    "import pandas as pd\n",
    "from tqdm import tqdm_notebook as tqdm\n",
    "import numpy as np"
   ]
  },
  {
   "cell_type": "code",
   "execution_count": 2,
   "metadata": {},
   "outputs": [],
   "source": [
    "data = pd.read_excel('test_monster/DataSet.xlsx')"
   ]
  },
  {
   "cell_type": "markdown",
   "metadata": {},
   "source": [
    "разделить чек и дату - чек - номер транзакции, и дата транзакции  \n",
    "RFM - aббревиатура слов Recency (новизна), Frequency (частота), Monetary (вложения)  \n",
    "1) определить критерии активности R\n",
    "  - «раскидать» клиентов по временным группам  \n",
    "2) определить активность F  \n",
    "  - Здесь мы будем рассматривать то, насколько часто клиент проявлял активность.   \n",
    "3) определить качество M\n",
    "  -  «качество» совершаемых пользователем действий, как правило, измеряемое в потраченных на ваши товары и услуги деньгах  \n",
    "  \n",
    "И опционально\n",
    "- сколько времени прошло с последей покупки\n",
    "- количество посещений за последнюю неделю/месяц\n",
    "- средний чек за все время\n",
    "- любимые категории покупок (молочка, алкоголь и т.д.)\n",
    "- сумма скидок "
   ]
  },
  {
   "cell_type": "code",
   "execution_count": 3,
   "metadata": {},
   "outputs": [],
   "source": [
    "def get_receipt(receipt):\n",
    "    return receipt.split()[1]"
   ]
  },
  {
   "cell_type": "code",
   "execution_count": 4,
   "metadata": {},
   "outputs": [],
   "source": [
    "def get_date(receipt):\n",
    "    return pd.to_datetime(receipt.split()[3], format='%d.%m.%Y')"
   ]
  },
  {
   "cell_type": "code",
   "execution_count": 5,
   "metadata": {},
   "outputs": [],
   "source": [
    "def prepare_dataset(df):\n",
    "    df['receipt'] = df['Чек'].apply(get_receipt)\n",
    "    df['date'] = df['Чек'].apply(get_date)"
   ]
  },
  {
   "cell_type": "code",
   "execution_count": 6,
   "metadata": {},
   "outputs": [],
   "source": [
    "prepare_dataset(data)"
   ]
  },
  {
   "cell_type": "markdown",
   "metadata": {},
   "source": [
    "### Создадим датасет с уникальными клиентами, которых будем сегментировать по группам"
   ]
  },
  {
   "cell_type": "code",
   "execution_count": 7,
   "metadata": {},
   "outputs": [],
   "source": [
    "clients = pd.DataFrame({'client': data['Карта лояльности'].unique()})"
   ]
  },
  {
   "cell_type": "code",
   "execution_count": 8,
   "metadata": {},
   "outputs": [],
   "source": [
    "clients.dropna(inplace=True)"
   ]
  },
  {
   "cell_type": "markdown",
   "metadata": {},
   "source": [
    "### Разделим клиентов на группы по дате последнего посещения, количеству посещений и количеству потраченных денег  \n",
    "Разделение на группы было осуществлено так, чтобы лучших клиентов оказалось как можно меньше, а худших - больше."
   ]
  },
  {
   "cell_type": "code",
   "execution_count": 9,
   "metadata": {},
   "outputs": [],
   "source": [
    "last_date = data['date'].max()"
   ]
  },
  {
   "cell_type": "code",
   "execution_count": 10,
   "metadata": {},
   "outputs": [
    {
     "data": {
      "text/plain": [
       "Timestamp('2018-12-31 00:00:00')"
      ]
     },
     "execution_count": 10,
     "metadata": {},
     "output_type": "execute_result"
    }
   ],
   "source": [
    "last_date"
   ]
  },
  {
   "cell_type": "code",
   "execution_count": 11,
   "metadata": {},
   "outputs": [],
   "source": [
    "clients['last_visit_days'] = 0\n",
    "clients['last_visit_group'] = 0\n",
    "clients['transactions_sum'] = 0\n",
    "clients['transactions_group'] = 0\n",
    "clients['purchase_sum'] = 0\n",
    "clients['purchase_group'] = 0"
   ]
  },
  {
   "cell_type": "code",
   "execution_count": 12,
   "metadata": {},
   "outputs": [
    {
     "data": {
      "application/vnd.jupyter.widget-view+json": {
       "model_id": "8689c238d65d46588ebafd41af150427",
       "version_major": 2,
       "version_minor": 0
      },
      "text/plain": [
       "HBox(children=(IntProgress(value=0, max=10408), HTML(value='')))"
      ]
     },
     "metadata": {},
     "output_type": "display_data"
    },
    {
     "name": "stdout",
     "output_type": "stream",
     "text": [
      "\n"
     ]
    }
   ],
   "source": [
    "for name, group in tqdm(data.groupby('Карта лояльности')):\n",
    "    clients.loc[clients['client'] == name, 'last_visit_days'] = (last_date - group['date'].max()).days\n",
    "    clients.loc[clients['client'] == name, 'transactions_sum'] = group['receipt'].unique().shape[0]\n",
    "    clients.loc[clients['client'] == name, 'purchase_sum'] = group['Сумма Итоговая'].sum()"
   ]
  },
  {
   "cell_type": "code",
   "execution_count": 13,
   "metadata": {},
   "outputs": [],
   "source": [
    "# days_33 = clients['last_visit_days'].quantile(.33)\n",
    "# days_66 = clients['last_visit_days'].quantile(.66)\n",
    "# transactions_33 = clients['transactions_sum'].quantile(.33)\n",
    "# transactions_66 = clients['transactions_sum'].quantile(.66)\n",
    "# purchase_33 = clients['purchase_sum'].quantile(.33)\n",
    "# purchase_66 = clients['purchase_sum'].quantile(.66)\n",
    "# 7 30\n",
    "# 1 4\n",
    "# 7000 1500"
   ]
  },
  {
   "cell_type": "code",
   "execution_count": 14,
   "metadata": {},
   "outputs": [],
   "source": [
    "def get_last_visit_group(days):\n",
    "    if days <= 6:\n",
    "        return 1\n",
    "    elif days > 6 and days <= 30:\n",
    "        return 2\n",
    "    else:\n",
    "        return 3"
   ]
  },
  {
   "cell_type": "code",
   "execution_count": 15,
   "metadata": {},
   "outputs": [],
   "source": [
    "def get_transactions_group(transactions_sum):\n",
    "    if transactions_sum == 1:\n",
    "        return 3\n",
    "    elif transactions_sum > 1 and transactions_sum <= 4:\n",
    "        return 2\n",
    "    else:\n",
    "        return 1"
   ]
  },
  {
   "cell_type": "code",
   "execution_count": 16,
   "metadata": {},
   "outputs": [],
   "source": [
    "def get_purchase_group(purchase_sum):\n",
    "    if purchase_sum > 7000:\n",
    "        return 1\n",
    "    elif purchase_sum <= 7000 and purchase_sum > 1500:\n",
    "        return 2\n",
    "    else:\n",
    "        return 3"
   ]
  },
  {
   "cell_type": "code",
   "execution_count": 17,
   "metadata": {},
   "outputs": [],
   "source": [
    "clients['last_visit_group'] = clients['last_visit_days'].apply(get_last_visit_group)\n",
    "clients['transactions_group'] = clients['transactions_sum'].apply(get_transactions_group)\n",
    "clients['purchase_group'] = clients['purchase_sum'].apply(get_purchase_group)"
   ]
  },
  {
   "cell_type": "code",
   "execution_count": 18,
   "metadata": {},
   "outputs": [
    {
     "data": {
      "text/plain": [
       "3    4698\n",
       "2    3446\n",
       "1    2264\n",
       "Name: last_visit_group, dtype: int64"
      ]
     },
     "execution_count": 18,
     "metadata": {},
     "output_type": "execute_result"
    }
   ],
   "source": [
    "clients['last_visit_group'].value_counts()"
   ]
  },
  {
   "cell_type": "code",
   "execution_count": 19,
   "metadata": {},
   "outputs": [
    {
     "data": {
      "text/plain": [
       "3    5035\n",
       "2    3129\n",
       "1    2244\n",
       "Name: transactions_group, dtype: int64"
      ]
     },
     "execution_count": 19,
     "metadata": {},
     "output_type": "execute_result"
    }
   ],
   "source": [
    "clients['transactions_group'].value_counts()"
   ]
  },
  {
   "cell_type": "code",
   "execution_count": 20,
   "metadata": {},
   "outputs": [
    {
     "data": {
      "text/plain": [
       "3    4439\n",
       "2    3868\n",
       "1    2101\n",
       "Name: purchase_group, dtype: int64"
      ]
     },
     "execution_count": 20,
     "metadata": {},
     "output_type": "execute_result"
    }
   ],
   "source": [
    "clients['purchase_group'].value_counts()"
   ]
  },
  {
   "cell_type": "markdown",
   "metadata": {},
   "source": [
    "### После такого разбиения можно немного проанализировать полученные группы клиентов"
   ]
  },
  {
   "cell_type": "code",
   "execution_count": 21,
   "metadata": {},
   "outputs": [],
   "source": [
    "def get_rfm_segment(segment):\n",
    "    res = 0\n",
    "    for rfm in segment:\n",
    "         res += clients.loc[(clients['last_visit_group'] == rfm[0]) & (clients['transactions_group'] == rfm[1]) & (clients['purchase_group'] == rfm[2])].shape[0] * 100 / clients.shape[0]\n",
    "    return res"
   ]
  },
  {
   "cell_type": "code",
   "execution_count": 63,
   "metadata": {},
   "outputs": [],
   "source": [
    "ideal = [[1, 1, 1]]\n",
    "loyal = [[1, 1, 2], [1, 1, 3]]\n",
    "perpective = [[1, 2, 1], [1, 2, 2]]\n",
    "new = [[1, 3, 1], [1, 3, 2]]\n",
    "sleep_loyal = [[2, 1, 1], [2, 1, 2]]\n",
    "sleep_perspective = [[2, 2, 1], [2, 2, 2]]\n",
    "ex_loyal = [[3, 1, 1], [3, 1, 2]]\n",
    "ex_perspective = [[3, 2, 1], [3, 2, 2]]\n",
    "stray = [[2, 3, 1], [2, 3, 2], [2, 3, 3]]\n",
    "lost = [[3, 3, 1], [3, 3, 2], [3, 3, 3]]\n",
    "low_check = [[1, 2, 3], [1, 3, 3], [2, 1, 3], [2, 2, 3], [3, 1, 3], [3, 2, 3]]"
   ]
  },
  {
   "cell_type": "code",
   "execution_count": 64,
   "metadata": {},
   "outputs": [
    {
     "data": {
      "text/plain": [
       "8.358954650269023"
      ]
     },
     "execution_count": 64,
     "metadata": {},
     "output_type": "execute_result"
    }
   ],
   "source": [
    "get_rfm_segment(ideal)"
   ]
  },
  {
   "cell_type": "markdown",
   "metadata": {},
   "source": [
    "Видно, что в результате сегментации было выделено 8.4% идеальных клиентов.  \n",
    "Это те клиенты, которые посещают магазин часто, тратят много, а в последний раз заходили в течение недели.  \n",
    "Нет никакой необходимости тратить бюджет на скидки или акционные предложения для данной группы клиентов, но важно удержать их и мотивировать на дальнейшие покупки. Неназойливые знаки внимания, дающие понять, что клиент важен для компании. Но не стоит их утомлять лишними коммуникациями.  \n",
    "Анализ данного сегмента может указать путь к построению подобных отношений с другими клиентами, если, например, попросить их оставить отзыв о компании."
   ]
  },
  {
   "cell_type": "code",
   "execution_count": 65,
   "metadata": {},
   "outputs": [
    {
     "data": {
      "text/plain": [
       "2.9496541122213684"
      ]
     },
     "execution_count": 65,
     "metadata": {},
     "output_type": "execute_result"
    }
   ],
   "source": [
    "get_rfm_segment(loyal)"
   ]
  },
  {
   "cell_type": "markdown",
   "metadata": {},
   "source": [
    "Почти 3% - лояльные клиенты с низким и средним чеком."
   ]
  },
  {
   "cell_type": "code",
   "execution_count": 66,
   "metadata": {},
   "outputs": [
    {
     "data": {
      "text/plain": [
       "4.4965411222136815"
      ]
     },
     "execution_count": 66,
     "metadata": {},
     "output_type": "execute_result"
    }
   ],
   "source": [
    "get_rfm_segment(perspective)"
   ]
  },
  {
   "cell_type": "markdown",
   "metadata": {},
   "source": [
    "4.5% составляют перспективные клиенты - те, кто приходил недавно и делает регулярно несколько крупных или средних покупок.  \n",
    "Важно удержать их интерес. Данная группа клиентов имеет все шансы перейти в категорию постоянных клиентов. Стоит узнать их мнение о компании, уделить им внимание, но быть аккуратными со скидками - данный сегмент покупателей имеет высокий шанс стать клиентами за полную стоимость."
   ]
  },
  {
   "cell_type": "code",
   "execution_count": 67,
   "metadata": {},
   "outputs": [
    {
     "data": {
      "text/plain": [
       "1.5949269792467333"
      ]
     },
     "execution_count": 67,
     "metadata": {},
     "output_type": "execute_result"
    }
   ],
   "source": [
    "get_rfm_segment(new)"
   ]
  },
  {
   "cell_type": "markdown",
   "metadata": {},
   "source": [
    "1.6% составили новички со средним и высоким чеком.  \n",
    "Важно наладить с ними контакт, произвести хорошее впечатление после первого закомства, что поможет перевести их в категорию лояльных."
   ]
  },
  {
   "cell_type": "code",
   "execution_count": 68,
   "metadata": {},
   "outputs": [
    {
     "data": {
      "text/plain": [
       "8.656802459646427"
      ]
     },
     "execution_count": 68,
     "metadata": {},
     "output_type": "execute_result"
    }
   ],
   "source": [
    "get_rfm_segment(sleep_perspective)"
   ]
  },
  {
   "cell_type": "markdown",
   "metadata": {},
   "source": [
    "8.7% - спящие перспективные клиенты.  \n",
    "Данные клиенты посещали магазин в последий месяц, заходили довольно часто и тратили много. Онако, они находятся под угрозой оттока.  Они еще помнят о компании, стоит привлечь их внимание. Это может быть хорошая персональная скидка, рекомендации и прочее. Цель - вернуть клиента в стан лояльных или хотя бы перспективных."
   ]
  },
  {
   "cell_type": "code",
   "execution_count": 69,
   "metadata": {},
   "outputs": [
    {
     "data": {
      "text/plain": [
       "7.926594926979247"
      ]
     },
     "execution_count": 69,
     "metadata": {},
     "output_type": "execute_result"
    }
   ],
   "source": [
    "get_rfm_segment(sleep_loyal)"
   ]
  },
  {
   "cell_type": "markdown",
   "metadata": {},
   "source": [
    "8.2% - спящие лояльные клиенты"
   ]
  },
  {
   "cell_type": "code",
   "execution_count": 70,
   "metadata": {},
   "outputs": [
    {
     "data": {
      "text/plain": [
       "1.911990776325903"
      ]
     },
     "execution_count": 70,
     "metadata": {},
     "output_type": "execute_result"
    }
   ],
   "source": [
    "get_rfm_segment(ex_loyal)"
   ]
  },
  {
   "cell_type": "markdown",
   "metadata": {},
   "source": [
    "2.1% попадают под категорию бывших лояльных клиентов.  \n",
    "Данный сегмент делал покупки много и часто, однако, уже больше месяца не заходил в магазин. Возможно, клиент переехал, и поблизости не оказалось магазина данной сети. Но если он просто начал ходит в другой - его можно вернуть. Подойдут те же бонусы, что и для предыдущей категории, возможно даже более весомые."
   ]
  },
  {
   "cell_type": "code",
   "execution_count": 71,
   "metadata": {},
   "outputs": [
    {
     "data": {
      "text/plain": [
       "8.137970791698693"
      ]
     },
     "execution_count": 71,
     "metadata": {},
     "output_type": "execute_result"
    }
   ],
   "source": [
    "get_rfm_segment(ex_perspective)"
   ]
  },
  {
   "cell_type": "markdown",
   "metadata": {},
   "source": [
    "12.2% - бывшие перспективные"
   ]
  },
  {
   "cell_type": "code",
   "execution_count": 72,
   "metadata": {},
   "outputs": [
    {
     "data": {
      "text/plain": [
       "12.893927747886242"
      ]
     },
     "execution_count": 72,
     "metadata": {},
     "output_type": "execute_result"
    }
   ],
   "source": [
    "get_rfm_segment(stray)"
   ]
  },
  {
   "cell_type": "markdown",
   "metadata": {},
   "source": [
    "12.9% клиентов оказались в магазине случайно в прошлом месяце, сделали одну покупку.  \n",
    "Возможно, проходили мимо, или их привлек какой-то определенный продукт. Это можно проанализировать. Есть вероятность привлечь клиента, но не стоит тратить на это много ресурсов."
   ]
  },
  {
   "cell_type": "code",
   "execution_count": 73,
   "metadata": {},
   "outputs": [
    {
     "data": {
      "text/plain": [
       "30.870484242890086"
      ]
     },
     "execution_count": 73,
     "metadata": {},
     "output_type": "execute_result"
    }
   ],
   "source": [
    "get_rfm_segment(lost)"
   ]
  },
  {
   "cell_type": "markdown",
   "metadata": {},
   "source": [
    "30.9% клиентов можно отнести к категории потерянных.  \n",
    "Похоже на прошлую категорию, только были в магазине больше месяца назад. Данный сегмент еще менее вероятно станет постоянным клиентом сети."
   ]
  },
  {
   "cell_type": "code",
   "execution_count": 74,
   "metadata": {},
   "outputs": [
    {
     "data": {
      "text/plain": [
       "12.202152190622598"
      ]
     },
     "execution_count": 74,
     "metadata": {},
     "output_type": "execute_result"
    }
   ],
   "source": [
    "get_rfm_segment(low_check)"
   ]
  },
  {
   "cell_type": "markdown",
   "metadata": {},
   "source": [
    "### Для каждого клиента посчитаем сколько дней он является клиентом и средний чек покупок в день"
   ]
  },
  {
   "cell_type": "code",
   "execution_count": 75,
   "metadata": {},
   "outputs": [],
   "source": [
    "clients['days_client'] = 0"
   ]
  },
  {
   "cell_type": "code",
   "execution_count": 76,
   "metadata": {},
   "outputs": [
    {
     "data": {
      "application/vnd.jupyter.widget-view+json": {
       "model_id": "f1b3c17af0a8429fb9afece4005cebcd",
       "version_major": 2,
       "version_minor": 0
      },
      "text/plain": [
       "HBox(children=(IntProgress(value=0, max=10408), HTML(value='')))"
      ]
     },
     "metadata": {},
     "output_type": "display_data"
    },
    {
     "name": "stdout",
     "output_type": "stream",
     "text": [
      "\n"
     ]
    }
   ],
   "source": [
    "for name, group in tqdm(data.groupby('Карта лояльности')):\n",
    "    clients.loc[clients['client'] == name, 'days_client'] = (last_date - group['date'].min()).days + 1"
   ]
  },
  {
   "cell_type": "code",
   "execution_count": 77,
   "metadata": {},
   "outputs": [],
   "source": [
    "# Средний размер покупок за отчетный период\n",
    "clients['check_average'] = clients['purchase_sum'] / 92"
   ]
  },
  {
   "cell_type": "markdown",
   "metadata": {},
   "source": [
    "### Посчитаем LTV для каждого клиента и посмотрим средний LTV по категориям"
   ]
  },
  {
   "cell_type": "code",
   "execution_count": 78,
   "metadata": {},
   "outputs": [],
   "source": [
    "clients['LTV'] = clients['days_client'] * clients['check_average']"
   ]
  },
  {
   "cell_type": "code",
   "execution_count": 79,
   "metadata": {},
   "outputs": [],
   "source": [
    "def get_ltv_rfm_segment(segment):\n",
    "    ltv = 0\n",
    "    size = np.array(segment).shape[0]\n",
    "    for rfm in segment:\n",
    "        ltv += clients.loc[(clients['last_visit_group'] == rfm[0]) & (clients['transactions_group'] == rfm[1]) & (clients['purchase_group'] == rfm[2]), 'LTV'].mean()\n",
    "    return ltv / size"
   ]
  },
  {
   "cell_type": "code",
   "execution_count": 80,
   "metadata": {},
   "outputs": [
    {
     "data": {
      "text/plain": [
       "25479.313830584728"
      ]
     },
     "execution_count": 80,
     "metadata": {},
     "output_type": "execute_result"
    }
   ],
   "source": [
    "get_ltv_rfm_segment(ideal)"
   ]
  },
  {
   "cell_type": "markdown",
   "metadata": {},
   "source": [
    "В категории идеальных клиентов ожидаемо самый высокий LTV.  \n",
    "Как говорилось ранее, эти клиенты и так лояльны, данной категории не нужны скидки. Но необходимо удержать их."
   ]
  },
  {
   "cell_type": "code",
   "execution_count": 81,
   "metadata": {},
   "outputs": [
    {
     "data": {
      "text/plain": [
       "1791.7903476989575"
      ]
     },
     "execution_count": 81,
     "metadata": {},
     "output_type": "execute_result"
    }
   ],
   "source": [
    "get_ltv_rfm_segment(loyal)"
   ]
  },
  {
   "cell_type": "markdown",
   "metadata": {},
   "source": [
    "Лояльные клиенты с низким и средним чеком. За счет небольших сумм покупок LTV получился низким. Стоит простимулировать клиентов покупать больше, предлагая, например, сопутствующие товары."
   ]
  },
  {
   "cell_type": "code",
   "execution_count": 82,
   "metadata": {},
   "outputs": [
    {
     "data": {
      "text/plain": [
       "4031.1689478414205"
      ]
     },
     "execution_count": 82,
     "metadata": {},
     "output_type": "execute_result"
    }
   ],
   "source": [
    "get_ltv_rfm_segment(perspective)"
   ]
  },
  {
   "cell_type": "markdown",
   "metadata": {},
   "source": [
    "Хороший LTV у перспективных клиентов. Необходимо перевести их в категорию лояльных, проявить к ним внимание.  \n",
    "Они уже не раз бывали в магазине, заходили недавно, тратили немаленькие суммы. Они готовы, стоит их лишь подогреть - например, диалогом."
   ]
  },
  {
   "cell_type": "code",
   "execution_count": 83,
   "metadata": {},
   "outputs": [
    {
     "data": {
      "text/plain": [
       "329.3031744734507"
      ]
     },
     "execution_count": 83,
     "metadata": {},
     "output_type": "execute_result"
    }
   ],
   "source": [
    "get_ltv_rfm_segment(new)"
   ]
  },
  {
   "cell_type": "markdown",
   "metadata": {},
   "source": [
    "Новички. Низкий LTV за счет своего недавнего появления. Необходимо простимулировать к повторным покупкам. Наладить диалог. Сообщить о поступлении товаров, которыми клиент интересовался."
   ]
  },
  {
   "cell_type": "code",
   "execution_count": 84,
   "metadata": {},
   "outputs": [
    {
     "data": {
      "text/plain": [
       "(10721.716528132993, 4720.4973822222455)"
      ]
     },
     "execution_count": 84,
     "metadata": {},
     "output_type": "execute_result"
    }
   ],
   "source": [
    "get_ltv_rfm_segment(sleep_loyal), get_ltv_rfm_segment(sleep_perspective)"
   ]
  },
  {
   "cell_type": "markdown",
   "metadata": {},
   "source": [
    "Под угрозой оттока. Вернуть! Хорошие персональные скидки и рекомендации - сюда."
   ]
  },
  {
   "cell_type": "code",
   "execution_count": 85,
   "metadata": {},
   "outputs": [
    {
     "data": {
      "text/plain": [
       "(9475.28796358808, 5860.4673503973845)"
      ]
     },
     "execution_count": 85,
     "metadata": {},
     "output_type": "execute_result"
    }
   ],
   "source": [
    "get_ltv_rfm_segment(ex_loyal), get_ltv_rfm_segment(ex_perspective)"
   ]
  },
  {
   "cell_type": "markdown",
   "metadata": {},
   "source": [
    "Бывшие лояльные. То же самое, что и с предыдущими."
   ]
  },
  {
   "cell_type": "code",
   "execution_count": 86,
   "metadata": {},
   "outputs": [
    {
     "data": {
      "text/plain": [
       "1047.0212803599165"
      ]
     },
     "execution_count": 86,
     "metadata": {},
     "output_type": "execute_result"
    }
   ],
   "source": [
    "get_ltv_rfm_segment(stray)"
   ]
  },
  {
   "cell_type": "markdown",
   "metadata": {},
   "source": [
    "Залетные. Можно попробовать."
   ]
  },
  {
   "cell_type": "code",
   "execution_count": 87,
   "metadata": {},
   "outputs": [
    {
     "data": {
      "text/plain": [
       "3095.098322772852"
      ]
     },
     "execution_count": 87,
     "metadata": {},
     "output_type": "execute_result"
    }
   ],
   "source": [
    "get_ltv_rfm_segment(lost)"
   ]
  },
  {
   "cell_type": "markdown",
   "metadata": {},
   "source": [
    "Потерянные. Попробовать вернуть."
   ]
  },
  {
   "cell_type": "code",
   "execution_count": 88,
   "metadata": {},
   "outputs": [
    {
     "data": {
      "text/plain": [
       "4497.368261872129"
      ]
     },
     "execution_count": 88,
     "metadata": {},
     "output_type": "execute_result"
    }
   ],
   "source": [
    "clients['LTV'].mean()"
   ]
  },
  {
   "cell_type": "markdown",
   "metadata": {},
   "source": [
    "### Посчитаем сумму скидок на каждого клиента, среднее количество покупок за посещение,  топ товаров, предпочитают ли own trademark"
   ]
  },
  {
   "cell_type": "code",
   "execution_count": 89,
   "metadata": {},
   "outputs": [],
   "source": [
    "clients['discount_prop'] = 0\n",
    "clients['purchases_mean'] = 0\n",
    "clients['own_trademark_prop'] = 0\n",
    "clients['top1_purchases'] = 0\n",
    "clients['top2_purchases'] = 0\n",
    "clients['top3_purchases'] = 0"
   ]
  },
  {
   "cell_type": "code",
   "execution_count": 90,
   "metadata": {},
   "outputs": [],
   "source": [
    "data['own_trademark'] = data['Название товара'].apply(lambda x: 1 if 'PL' in x else 0)"
   ]
  },
  {
   "cell_type": "code",
   "execution_count": 91,
   "metadata": {},
   "outputs": [
    {
     "data": {
      "application/vnd.jupyter.widget-view+json": {
       "model_id": "6d193f262dbf46a084b95742995893bc",
       "version_major": 2,
       "version_minor": 0
      },
      "text/plain": [
       "HBox(children=(IntProgress(value=0, max=10408), HTML(value='')))"
      ]
     },
     "metadata": {},
     "output_type": "display_data"
    },
    {
     "name": "stdout",
     "output_type": "stream",
     "text": [
      "\n"
     ]
    }
   ],
   "source": [
    "for name, group in tqdm(data.groupby('Карта лояльности')):\n",
    "    clients.loc[clients['client'] == name, 'discount_prop'] = group['Сумма скидки'].sum() * 100 / (group['Цена'] * group['Количество']).sum()\n",
    "    clients.loc[clients['client'] == name, 'purchases_mean'] = group['Количество'].sum()\n",
    "    clients.loc[clients['client'] == name, 'own_trademark_prop'] = group[group['own_trademark'] == 1]['Количество'].sum()\n",
    "clients['own_trademark_prop'] = clients['own_trademark_prop'] * 100 / clients['purchases_mean']\n",
    "clients['purchases_mean'] = clients['purchases_mean'] / clients['transactions_sum']"
   ]
  },
  {
   "cell_type": "code",
   "execution_count": 92,
   "metadata": {},
   "outputs": [],
   "source": [
    "def get_segment_info(R, F, M):\n",
    "    return (clients.loc[(clients['last_visit_group'] == R) & (clients['transactions_group'] == F) & (clients['purchase_group'] == M), 'discount_prop'].mean(), \n",
    "           clients.loc[(clients['last_visit_group'] == R) & (clients['transactions_group'] == F) & (clients['purchase_group'] == M), 'own_trademark_prop'].mean(),\n",
    "           clients.loc[(clients['last_visit_group'] == R) & (clients['transactions_group'] == F) & (clients['purchase_group'] == M), 'purchases_mean'].mean())"
   ]
  },
  {
   "cell_type": "code",
   "execution_count": 93,
   "metadata": {},
   "outputs": [],
   "source": [
    "def get_average_info(segment):\n",
    "    info = np.array([.0, .0, .0])\n",
    "    size = np.array(segment).shape[0]\n",
    "    for rfm in segment:\n",
    "        info += np.array(get_segment_info(rfm[0], rfm[1], rfm[2]))\n",
    "    return info / size"
   ]
  },
  {
   "cell_type": "code",
   "execution_count": 94,
   "metadata": {},
   "outputs": [
    {
     "data": {
      "text/plain": [
       "array([ 8.79382097, 35.93968161,  8.23919183])"
      ]
     },
     "execution_count": 94,
     "metadata": {},
     "output_type": "execute_result"
    }
   ],
   "source": [
    "get_average_info(ideal)"
   ]
  },
  {
   "cell_type": "code",
   "execution_count": 95,
   "metadata": {},
   "outputs": [
    {
     "data": {
      "text/plain": [
       "array([24.96534719, 40.55678613,  2.90201899])"
      ]
     },
     "execution_count": 95,
     "metadata": {},
     "output_type": "execute_result"
    }
   ],
   "source": [
    "get_average_info(loyal)"
   ]
  },
  {
   "cell_type": "code",
   "execution_count": 96,
   "metadata": {},
   "outputs": [
    {
     "data": {
      "text/plain": [
       "array([ 7.44472845, 26.12358985,  8.9491787 ])"
      ]
     },
     "execution_count": 96,
     "metadata": {},
     "output_type": "execute_result"
    }
   ],
   "source": [
    "get_average_info(perspective)"
   ]
  },
  {
   "cell_type": "code",
   "execution_count": 97,
   "metadata": {},
   "outputs": [
    {
     "data": {
      "text/plain": [
       "array([ 6.72950458, 20.78270875, 20.7741382 ])"
      ]
     },
     "execution_count": 97,
     "metadata": {},
     "output_type": "execute_result"
    }
   ],
   "source": [
    "get_average_info(new)"
   ]
  },
  {
   "cell_type": "code",
   "execution_count": 98,
   "metadata": {},
   "outputs": [
    {
     "data": {
      "text/plain": [
       "(array([ 8.73378358, 34.42067181,  5.97014126]),\n",
       " array([ 6.50192908, 25.09983143,  9.32594323]))"
      ]
     },
     "execution_count": 98,
     "metadata": {},
     "output_type": "execute_result"
    }
   ],
   "source": [
    "get_average_info(sleep_loyal), get_average_info(sleep_perspective)"
   ]
  },
  {
   "cell_type": "code",
   "execution_count": 99,
   "metadata": {},
   "outputs": [
    {
     "data": {
      "text/plain": [
       "(array([ 7.16496296, 35.33811183,  5.82450656]),\n",
       " array([ 6.07313209, 29.03711411,  9.86940454]))"
      ]
     },
     "execution_count": 99,
     "metadata": {},
     "output_type": "execute_result"
    }
   ],
   "source": [
    "get_average_info(ex_loyal), get_average_info(ex_perspective)"
   ]
  },
  {
   "cell_type": "code",
   "execution_count": 100,
   "metadata": {},
   "outputs": [
    {
     "data": {
      "text/plain": [
       "array([ 5.55338803, 21.08693221, 14.32752782])"
      ]
     },
     "execution_count": 100,
     "metadata": {},
     "output_type": "execute_result"
    }
   ],
   "source": [
    "get_average_info(stray)"
   ]
  },
  {
   "cell_type": "code",
   "execution_count": 101,
   "metadata": {},
   "outputs": [
    {
     "data": {
      "text/plain": [
       "array([ 4.89588205, 21.35460372, 13.11562149])"
      ]
     },
     "execution_count": 101,
     "metadata": {},
     "output_type": "execute_result"
    }
   ],
   "source": [
    "get_average_info(lost)"
   ]
  },
  {
   "cell_type": "code",
   "execution_count": 102,
   "metadata": {},
   "outputs": [
    {
     "data": {
      "text/plain": [
       "529.0550842939465"
      ]
     },
     "execution_count": 102,
     "metadata": {},
     "output_type": "execute_result"
    }
   ],
   "source": [
    "get_ltv_rfm_segment(low_check)"
   ]
  },
  {
   "cell_type": "code",
   "execution_count": 103,
   "metadata": {},
   "outputs": [
    {
     "data": {
      "text/plain": [
       "array([15.33493015, 34.97285973,  2.72610593])"
      ]
     },
     "execution_count": 103,
     "metadata": {},
     "output_type": "execute_result"
    }
   ],
   "source": [
    "get_average_info(low_check)"
   ]
  }
 ],
 "metadata": {
  "kernelspec": {
   "display_name": "Python 3",
   "language": "python",
   "name": "python3"
  },
  "language_info": {
   "codemirror_mode": {
    "name": "ipython",
    "version": 3
   },
   "file_extension": ".py",
   "mimetype": "text/x-python",
   "name": "python",
   "nbconvert_exporter": "python",
   "pygments_lexer": "ipython3",
   "version": "3.7.3"
  }
 },
 "nbformat": 4,
 "nbformat_minor": 2
}
